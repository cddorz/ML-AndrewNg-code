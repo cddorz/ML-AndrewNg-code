{
 "cells": [
  {
   "cell_type": "markdown",
   "metadata": {},
   "source": [
    "# Linear Regression 线性回归\n",
    "我的 python 版本为 3.9\n"
   ]
  },
  {
   "cell_type": "code",
   "execution_count": 2,
   "metadata": {},
   "outputs": [],
   "source": [
    "import pandas as pd \n",
    "import seaborn as sns \n",
    "sns.set(context=\"notebook\", style=\"whitegrid\", palette=\"dark\") # 数据可视化的一些设置\n",
    "import matplotlib.pyplot as plt \n",
    "import tensorflow as tf \n",
    "import numpy as np "
   ]
  },
  {
   "cell_type": "code",
   "execution_count": 3,
   "metadata": {},
   "outputs": [
    {
     "data": {
      "text/html": [
       "<div>\n",
       "<style scoped>\n",
       "    .dataframe tbody tr th:only-of-type {\n",
       "        vertical-align: middle;\n",
       "    }\n",
       "\n",
       "    .dataframe tbody tr th {\n",
       "        vertical-align: top;\n",
       "    }\n",
       "\n",
       "    .dataframe thead th {\n",
       "        text-align: right;\n",
       "    }\n",
       "</style>\n",
       "<table border=\"1\" class=\"dataframe\">\n",
       "  <thead>\n",
       "    <tr style=\"text-align: right;\">\n",
       "      <th></th>\n",
       "      <th>population</th>\n",
       "      <th>profit</th>\n",
       "    </tr>\n",
       "  </thead>\n",
       "  <tbody>\n",
       "    <tr>\n",
       "      <th>0</th>\n",
       "      <td>6.1101</td>\n",
       "      <td>17.5920</td>\n",
       "    </tr>\n",
       "    <tr>\n",
       "      <th>1</th>\n",
       "      <td>5.5277</td>\n",
       "      <td>9.1302</td>\n",
       "    </tr>\n",
       "    <tr>\n",
       "      <th>2</th>\n",
       "      <td>8.5186</td>\n",
       "      <td>13.6620</td>\n",
       "    </tr>\n",
       "    <tr>\n",
       "      <th>3</th>\n",
       "      <td>7.0032</td>\n",
       "      <td>11.8540</td>\n",
       "    </tr>\n",
       "    <tr>\n",
       "      <th>4</th>\n",
       "      <td>5.8598</td>\n",
       "      <td>6.8233</td>\n",
       "    </tr>\n",
       "  </tbody>\n",
       "</table>\n",
       "</div>"
      ],
      "text/plain": [
       "   population   profit\n",
       "0      6.1101  17.5920\n",
       "1      5.5277   9.1302\n",
       "2      8.5186  13.6620\n",
       "3      7.0032  11.8540\n",
       "4      5.8598   6.8233"
      ]
     },
     "execution_count": 3,
     "metadata": {},
     "output_type": "execute_result"
    }
   ],
   "source": [
    "df = pd.read_csv('ex1data1.txt', names=['population','profit']) # 读取数据并赋予类名，返回 dataFrame 表格类型\n",
    "df.head() # 看前五行"
   ]
  },
  {
   "cell_type": "code",
   "execution_count": 4,
   "metadata": {},
   "outputs": [
    {
     "name": "stdout",
     "output_type": "stream",
     "text": [
      "<class 'pandas.core.frame.DataFrame'>\n",
      "RangeIndex: 97 entries, 0 to 96\n",
      "Data columns (total 2 columns):\n",
      " #   Column      Non-Null Count  Dtype  \n",
      "---  ------      --------------  -----  \n",
      " 0   population  97 non-null     float64\n",
      " 1   profit      97 non-null     float64\n",
      "dtypes: float64(2)\n",
      "memory usage: 1.6 KB\n"
     ]
    }
   ],
   "source": [
    "df.info() # 返回 dataFrame 的一些信息\n",
    "# <class 'pandas.core.frame.DataFrame'>\n",
    "# RangeIndex: 97 entries, 0 to 96 --->行数，96行\n",
    "# Data columns (total 2 columns): --->列数，2列\n",
    "#  #   Column      Non-Null Count  Dtype  \n",
    "# ---  ------      --------------  -----  \n",
    "#  0   population  97 non-null     float64 --->数据类型为float 64\n",
    "#  1   profit      97 non-null     float64\n",
    "# dtypes: float64(2)\n",
    "# memory usage: 1.6 KB\n"
   ]
  },
  {
   "cell_type": "markdown",
   "metadata": {},
   "source": [
    "***\n",
    "# 绘图"
   ]
  },
  {
   "cell_type": "code",
   "execution_count": 5,
   "metadata": {},
   "outputs": [
    {
     "data": {
      "image/png": "[encoded data removed]",
      "text/plain": [
       "<Figure size 432x432 with 1 Axes>"
      ]
     },
     "metadata": {},
     "output_type": "display_data"
    }
   ],
   "source": [
    "# parameters:\n",
    "    # x,y: Input variables\n",
    "    # data: 数据集\n",
    "    # height: 绘制的图表尺寸\n",
    "    # fit_reg: 为 True 则绘制 linear regression 模型，为 False 则不绘制\n",
    "    # seabarn 为 matplotlib 的扩展\n",
    "sns.lmplot(x='population', y='profit', data=df, height=6, fit_reg=True)\n",
    "plt.show()"
   ]
  },
  {
   "cell_type": "code",
   "execution_count": 6,
   "metadata": {},
   "outputs": [],
   "source": [
    "def get_X(df): # 读取特征,即 x0 ... xn 的矩阵\n",
    "    ones = pd.DataFrame({'ones': np.ones(len(df))}) # one 是 m x 1 的 dataframe\n",
    "    data = pd.concat([ones,df],axis=1)\n",
    "    # data:\n",
    "    # ones\tpopulation\tprofit\n",
    "    # 0\t1.0\t6.1101\t17.5920\n",
    "    # 1\t1.0\t5.5277\t9.1302\n",
    "    # 2\t1.0\t8.5186\t13.6620\n",
    "    # 3\t1.0\t7.0032\t11.8540\n",
    "    # 4\t1.0\t5.8598\t6.8233\n",
    "    # return data.iloc[:, :-1] # 返回只有 ones 和第一列\n",
    "    return data.iloc[:, : -1].values # .values 将 dataFrame 转化为多维数组\n",
    "    \n",
    "def get_y(df): # 读取y值\n",
    "    return np.array(df.iloc[:,-1]) # 取 df 的最后一列\n",
    "    \n",
    "    \n",
    "def normalize_feature(df):\n",
    "    # apply(func): 将 func 这个函数应用于 dataFrame\n",
    "    # mean(): 求平均值\n",
    "    # std(): 求标准差 \n",
    "    return df.apply(lambda column: (column - column.mean()) / column.std()) # 特征缩放"
   ]
  },
  {
   "cell_type": "markdown",
   "metadata": {},
   "source": [
    "多变量的假设 h 表示为：$${{h}_{\\theta }}\\left( x \\right)={{\\theta }_{0}}+{{\\theta }_{1}}{{x}_{1}}+{{\\theta }_{2}}{{x}_{2}}+...+{{\\theta }_{n}}{{x}_{n}}$$\n",
    "\n",
    "这个公式中有n+1个参数和n个变量，为了使得公式能够简化一些，引入${{x}_{0}}=1$，则公式转化为 $${{h}_{\\theta }}\\left( x \\right)={{\\theta }_{0}}{{x}_{0}}+{{\\theta }_{1}}{{x}_{1}}+{{\\theta }_{2}}{{x}_{2}}+...+{{\\theta }_{n}}{{x}_{n}}$$\n",
    "\n",
    "此时模型中的参数是一个n+1维的向量，任何一个训练实例也都是n+1维的向量，特征矩阵X的维度是 m*(n+1)。 因此公式可以简化为：$${{h}_{\\theta }}\\left( x \\right)={{\\theta }^{T}}X$$，其中上标T代表矩阵转置。"
   ]
  },
  {
   "cell_type": "code",
   "execution_count": 7,
   "metadata": {},
   "outputs": [],
   "source": [
    "def linear_regression(X_data, y_data, alpha, epoch, optimizer=tf.optimizers.SGD): # 国外大神写的\n",
    "    # 所以placeholder()函数是在神经网络构建graph的时候在模型中的占位，此时并没有把要输入的数据传入模型\n",
    "    # 它只会分配必要的内存。等建立session，在会话中，运行模型的时候通过feed_dict()函数向占位符喂入数据。\n",
    "    X = tf.placeholder(tf.float32, shape=X_data.shape)\n",
    "    y = tf.placeholder(tf.float32, shape=y_data.shape)\n",
    "    \n",
    "    # construct the graph\n",
    "    with tf.variable_creator_scope('linear-regression'):\n",
    "        W = tf.get_variable(\"weight\",\n",
    "                            (X_data.shape[1],1),\n",
    "                            initializer=tf.constant_initializer()) # n * 1\n",
    "        \n",
    "        y_pred = tf.matmul(X, W)  # m*n @ n*1 -> m*1\n",
    "\n",
    "        loss = 1 / (2 * len(X_data)) * tf.matmul((y_pred - y), (y_pred - y), transpose_a=True)  # (m*1).T @ m*1 = 1*1\n",
    "\n",
    "    opt = optimizer(learning_rate=alpha)\n",
    "    opt_operation = opt.minimize(loss)\n",
    "\n",
    "    # run the session\n",
    "    with tf.Session() as sess:\n",
    "        sess.run(tf.global_variables_initializer())\n",
    "        loss_data = []\n",
    "\n",
    "        for i in range(epoch):\n",
    "            _, loss_val, W_val = sess.run([opt_operation, loss, W], feed_dict={X: X_data, y: y_data})\n",
    "            loss_data.append(loss_val[0, 0])  # because every loss_val is 1*1 ndarray\n",
    "\n",
    "            if len(loss_data) > 1 and np.abs(loss_data[-1] - loss_data[-2]) < 10 ** -9:  # early break when it's converged\n",
    "                # print('Converged at epoch {}'.format(i))\n",
    "                break\n",
    "\n",
    "    # clear the graph\n",
    "    tf.reset_default_graph()\n",
    "    return {'loss': loss_data, 'parameters': W_val}  # just want to return in row vector format"
   ]
  },
  {
   "cell_type": "code",
   "execution_count": 42,
   "metadata": {},
   "outputs": [
    {
     "data": {
      "text/html": [
       "<div>\n",
       "<style scoped>\n",
       "    .dataframe tbody tr th:only-of-type {\n",
       "        vertical-align: middle;\n",
       "    }\n",
       "\n",
       "    .dataframe tbody tr th {\n",
       "        vertical-align: top;\n",
       "    }\n",
       "\n",
       "    .dataframe thead th {\n",
       "        text-align: right;\n",
       "    }\n",
       "</style>\n",
       "<table border=\"1\" class=\"dataframe\">\n",
       "  <thead>\n",
       "    <tr style=\"text-align: right;\">\n",
       "      <th></th>\n",
       "      <th>population</th>\n",
       "      <th>profit</th>\n",
       "    </tr>\n",
       "  </thead>\n",
       "  <tbody>\n",
       "    <tr>\n",
       "      <th>0</th>\n",
       "      <td>6.1101</td>\n",
       "      <td>17.5920</td>\n",
       "    </tr>\n",
       "    <tr>\n",
       "      <th>1</th>\n",
       "      <td>5.5277</td>\n",
       "      <td>9.1302</td>\n",
       "    </tr>\n",
       "    <tr>\n",
       "      <th>2</th>\n",
       "      <td>8.5186</td>\n",
       "      <td>13.6620</td>\n",
       "    </tr>\n",
       "    <tr>\n",
       "      <th>3</th>\n",
       "      <td>7.0032</td>\n",
       "      <td>11.8540</td>\n",
       "    </tr>\n",
       "    <tr>\n",
       "      <th>4</th>\n",
       "      <td>5.8598</td>\n",
       "      <td>6.8233</td>\n",
       "    </tr>\n",
       "  </tbody>\n",
       "</table>\n",
       "</div>"
      ],
      "text/plain": [
       "   population   profit\n",
       "0      6.1101  17.5920\n",
       "1      5.5277   9.1302\n",
       "2      8.5186  13.6620\n",
       "3      7.0032  11.8540\n",
       "4      5.8598   6.8233"
      ]
     },
     "execution_count": 42,
     "metadata": {},
     "output_type": "execute_result"
    }
   ],
   "source": [
    "data = pd.read_csv('ex1data1.txt', names=['population', 'profit']) # 读取数据，并赋予列名\n",
    "\n",
    "data.head()#看下数据前5行"
   ]
  },
  {
   "cell_type": "markdown",
   "metadata": {},
   "source": [
    "# 计算代价函数\n",
    "$$J\\left( \\theta  \\right)=\\frac{1}{2m}\\sum\\limits_{i=1}^{m}{{{\\left( {{h}_{\\theta }}\\left( {{x}^{(i)}} \\right)-{{y}^{(i)}} \\right)}^{2}}}$$\n",
    "其中：$${{h}_{\\theta }}\\left( x \\right)={{\\theta }^{T}}X={{\\theta }_{0}}{{x}_{0}}+{{\\theta }_{1}}{{x}_{1}}+{{\\theta }_{2}}{{x}_{2}}+...+{{\\theta }_{n}}{{x}_{n}}$$"
   ]
  },
  {
   "cell_type": "code",
   "execution_count": 9,
   "metadata": {},
   "outputs": [
    {
     "name": "stdout",
     "output_type": "stream",
     "text": [
      "(97, 2) <class 'numpy.ndarray'>\n",
      "(97,) <class 'numpy.ndarray'>\n"
     ]
    }
   ],
   "source": [
    "# 查看一下数据维度\n",
    "X = get_X(data)\n",
    "print(X.shape, type(X))\n",
    "\n",
    "y = get_y(data)\n",
    "print(y.shape, type(y))"
   ]
  },
  {
   "cell_type": "code",
   "execution_count": 10,
   "metadata": {},
   "outputs": [
    {
     "name": "stdout",
     "output_type": "stream",
     "text": [
      "[0. 0.]\n"
     ]
    }
   ],
   "source": [
    "theta = np.zeros(X.shape[1]) # X.shape[1] = n , 代表有 n 个特征值\n",
    "print(theta)"
   ]
  },
  {
   "cell_type": "code",
   "execution_count": 11,
   "metadata": {},
   "outputs": [
    {
     "data": {
      "text/plain": [
       "32.072733877455676"
      ]
     },
     "execution_count": 11,
     "metadata": {},
     "output_type": "execute_result"
    }
   ],
   "source": [
    "def lr_cost(theta, X, y):\n",
    "#     \"\"\"\n",
    "#     X: R(m*n), m 样本数, n 特征数\n",
    "#     y: R(m)\n",
    "#     theta : R(n), 线性回归的参数\n",
    "#     \"\"\"\n",
    "    m = X.shape[0]  # 样本数\n",
    "\n",
    "    inner = X @ theta - y \n",
    "    \n",
    "    square_sum = inner.T @ inner\n",
    "    cost = square_sum / (2 * m)\n",
    "    return cost\n",
    "    \n",
    "lr_cost(theta,X,y) # 返回 J theta（代价函数）的值\n"
   ]
  },
  {
   "cell_type": "markdown",
   "metadata": {},
   "source": [
    "### 解释\n",
    "inner = X @ theta - y    这一样代码表示 $$ {{h}_{\\theta }}\\left( {{x}^{(i)}} \\right)-{{y}^{(i)}}$$ 的矩阵形式\n",
    "\n",
    "\n",
    "square_sum = inner.T @ inner 表示  $$ \\sum\\limits_{i=1}^{m}{{{\\left( {{h}_{\\theta }}\\left( {{x}^{(i)}} \\right)-{{y}^{(i)}} \\right)}^{2}}}$$\n",
    "\n",
    "所以最后 cost = $$ J\\left( \\theta  \\right)$$"
   ]
  },
  {
   "cell_type": "markdown",
   "metadata": {},
   "source": [
    "*********\n",
    "# batch gradient decent（批量梯度下降）\n",
    "$${{\\theta }_{j}}:={{\\theta }_{j}}-\\alpha \\frac{\\partial }{\\partial {{\\theta }_{j}}}J\\left( \\theta  \\right)$$"
   ]
  },
  {
   "cell_type": "code",
   "execution_count": 12,
   "metadata": {},
   "outputs": [],
   "source": [
    "def gradient(theta,X,y):\n",
    "    m = X.shape[0] # 样本数\n",
    "    \n",
    "    inner  = X.T @ (X @ theta - y) # h(x) - y * x 的 sum\n",
    "    \n",
    "    return inner / m"
   ]
  },
  {
   "cell_type": "code",
   "execution_count": 13,
   "metadata": {},
   "outputs": [],
   "source": [
    "def batch_gradient_decent(theta, X, y, eopch, alpha=0.01):\n",
    "    cost_data = [lr_cost(theta, X, y)]\n",
    "    _theta = theta.copy()\n",
    "    \n",
    "    for i in range(eopch):\n",
    "        _theta = _theta - alpha * gradient(_theta, X, y) # 更新 theta\n",
    "        cost_data.append(lr_cost(_theta, X, y))\n",
    "        \n",
    "    return _theta, cost_data"
   ]
  },
  {
   "cell_type": "code",
   "execution_count": 14,
   "metadata": {},
   "outputs": [],
   "source": [
    "eopch = 500 # 更新轮次为500次\n",
    "final_theta, cost_data = batch_gradient_decent(theta, X, y, eopch)"
   ]
  },
  {
   "cell_type": "code",
   "execution_count": 15,
   "metadata": {},
   "outputs": [
    {
     "data": {
      "text/plain": [
       "array([-2.28286727,  1.03099898])"
      ]
     },
     "execution_count": 15,
     "metadata": {},
     "output_type": "execute_result"
    }
   ],
   "source": [
    "final_theta # 最终的 theta 向量"
   ]
  },
  {
   "cell_type": "code",
   "execution_count": 16,
   "metadata": {},
   "outputs": [
    {
     "data": {
      "text/plain": [
       "[32.072733877455676,\n",
       " 6.737190464870009,\n",
       " 5.931593568604956,\n",
       " 5.901154707081388,\n",
       " 5.895228586444221,\n",
       " 5.890094943117332,\n",
       " 5.885004158443646,\n",
       " 5.8799324804914175,\n",
       " 5.874879094762575,\n",
       " 5.869843911806386,\n",
       " 5.864826865312929,\n",
       " 5.859827889932181,\n",
       " 5.85484692057229,\n",
       " 5.849883892376587,\n",
       " 5.844938740722034,\n",
       " 5.840011401218361,\n",
       " 5.835101809707226,\n",
       " 5.830209902261388,\n",
       " 5.825335615183862,\n",
       " 5.820478885007099,\n",
       " 5.815639648492152,\n",
       " 5.810817842627869,\n",
       " 5.806013404630044,\n",
       " 5.801226271940628,\n",
       " 5.796456382226899,\n",
       " 5.7917036733806535,\n",
       " 5.786968083517396,\n",
       " 5.782249550975539,\n",
       " 5.777548014315596,\n",
       " 5.772863412319381,\n",
       " 5.768195683989212,\n",
       " 5.76354476854712,\n",
       " 5.758910605434047,\n",
       " 5.7542931343090755,\n",
       " 5.749692295048629,\n",
       " 5.745108027745684,\n",
       " 5.740540272709014,\n",
       " 5.735988970462381,\n",
       " 5.731454061743792,\n",
       " 5.726935487504702,\n",
       " 5.722433188909257,\n",
       " 5.717947107333529,\n",
       " 5.713477184364749,\n",
       " 5.709023361800549,\n",
       " 5.704585581648199,\n",
       " 5.700163786123856,\n",
       " 5.695757917651815,\n",
       " 5.691367918863752,\n",
       " 5.686993732597982,\n",
       " 5.682635301898707,\n",
       " 5.678292570015291,\n",
       " 5.673965480401506,\n",
       " 5.669653976714796,\n",
       " 5.665358002815553,\n",
       " 5.661077502766381,\n",
       " 5.656812420831359,\n",
       " 5.6525627014753335,\n",
       " 5.648328289363181,\n",
       " 5.644109129359092,\n",
       " 5.639905166525856,\n",
       " 5.635716346124135,\n",
       " 5.631542613611772,\n",
       " 5.627383914643055,\n",
       " 5.623240195068026,\n",
       " 5.619111400931778,\n",
       " 5.61499747847374,\n",
       " 5.610898374126984,\n",
       " 5.606814034517532,\n",
       " 5.602744406463646,\n",
       " 5.598689436975159,\n",
       " 5.59464907325276,\n",
       " 5.590623262687323,\n",
       " 5.586611952859217,\n",
       " 5.5826150915376225,\n",
       " 5.578632626679853,\n",
       " 5.574664506430678,\n",
       " 5.570710679121643,\n",
       " 5.566771093270403,\n",
       " 5.562845697580051,\n",
       " 5.558934440938442,\n",
       " 5.555037272417544,\n",
       " 5.551154141272755,\n",
       " 5.547284996942256,\n",
       " 5.543429789046352,\n",
       " 5.539588467386808,\n",
       " 5.535760981946204,\n",
       " 5.531947282887275,\n",
       " 5.528147320552271,\n",
       " 5.524361045462306,\n",
       " 5.520588408316713,\n",
       " 5.5168293599924025,\n",
       " 5.513083851543225,\n",
       " 5.5093518341993315,\n",
       " 5.5056332593665385,\n",
       " 5.501928078625699,\n",
       " 5.498236243732065,\n",
       " 5.494557706614666,\n",
       " 5.490892419375678,\n",
       " 5.487240334289805,\n",
       " 5.483601403803651,\n",
       " 5.479975580535112,\n",
       " 5.476362817272741,\n",
       " 5.472763066975153,\n",
       " 5.469176282770399,\n",
       " 5.46560241795536,\n",
       " 5.462041425995138,\n",
       " 5.4584932605224585,\n",
       " 5.454957875337048,\n",
       " 5.451435224405051,\n",
       " 5.4479252618584235,\n",
       " 5.444427941994333,\n",
       " 5.4409432192745655,\n",
       " 5.437471048324933,\n",
       " 5.4340113839346875,\n",
       " 5.430564181055919,\n",
       " 5.427129394802987,\n",
       " 5.423706980451917,\n",
       " 5.420296893439839,\n",
       " 5.4168990893643825,\n",
       " 5.413513523983123,\n",
       " 5.410140153212988,\n",
       " 5.406778933129694,\n",
       " 5.403429819967165,\n",
       " 5.400092770116975,\n",
       " 5.396767740127768,\n",
       " 5.393454686704697,\n",
       " 5.390153566708862,\n",
       " 5.386864337156747,\n",
       " 5.383586955219661,\n",
       " 5.380321378223178,\n",
       " 5.377067563646582,\n",
       " 5.373825469122317,\n",
       " 5.370595052435429,\n",
       " 5.367376271523024,\n",
       " 5.364169084473712,\n",
       " 5.360973449527067,\n",
       " 5.357789325073084,\n",
       " 5.354616669651632,\n",
       " 5.3514554419519165,\n",
       " 5.348305600811943,\n",
       " 5.34516710521798,\n",
       " 5.342039914304029,\n",
       " 5.338923987351282,\n",
       " 5.335819283787603,\n",
       " 5.332725763186989,\n",
       " 5.329643385269053,\n",
       " 5.326572109898499,\n",
       " 5.323511897084587,\n",
       " 5.32046270698063,\n",
       " 5.317424499883461,\n",
       " 5.3143972362329235,\n",
       " 5.311380876611356,\n",
       " 5.3083753817430726,\n",
       " 5.305380712493861,\n",
       " 5.302396829870465,\n",
       " 5.2994236950200815,\n",
       " 5.296461269229852,\n",
       " 5.29350951392636,\n",
       " 5.290568390675129,\n",
       " 5.287637861180118,\n",
       " 5.284717887283231,\n",
       " 5.281808430963812,\n",
       " 5.278909454338152,\n",
       " 5.276020919659,\n",
       " 5.27314278931507,\n",
       " 5.270275025830543,\n",
       " 5.267417591864592,\n",
       " 5.264570450210885,\n",
       " 5.26173356379711,\n",
       " 5.2589068956844836,\n",
       " 5.256090409067274,\n",
       " 5.253284067272322,\n",
       " 5.250487833758565,\n",
       " 5.2477016721165555,\n",
       " 5.244925546067993,\n",
       " 5.242159419465253,\n",
       " 5.239403256290902,\n",
       " 5.236657020657251,\n",
       " 5.2339206768058695,\n",
       " 5.2311941891071285,\n",
       " 5.228477522059736,\n",
       " 5.225770640290271,\n",
       " 5.223073508552729,\n",
       " 5.220386091728056,\n",
       " 5.217708354823697,\n",
       " 5.215040262973137,\n",
       " 5.21238178143545,\n",
       " 5.209732875594843,\n",
       " 5.207093510960208,\n",
       " 5.204463653164672,\n",
       " 5.20184326796515,\n",
       " 5.199232321241896,\n",
       " 5.1966307789980615,\n",
       " 5.19403860735926,\n",
       " 5.191455772573107,\n",
       " 5.188882241008802,\n",
       " 5.186317979156676,\n",
       " 5.183762953627759,\n",
       " 5.181217131153349,\n",
       " 5.1786804785845755,\n",
       " 5.176152962891967,\n",
       " 5.173634551165023,\n",
       " 5.171125210611782,\n",
       " 5.168624908558403,\n",
       " 5.166133612448731,\n",
       " 5.163651289843874,\n",
       " 5.161177908421789,\n",
       " 5.15871343597685,\n",
       " 5.156257840419433,\n",
       " 5.1538110897755045,\n",
       " 5.151373152186197,\n",
       " 5.148943995907395,\n",
       " 5.146523589309324,\n",
       " 5.144111900876139,\n",
       " 5.141708899205515,\n",
       " 5.1393145530082345,\n",
       " 5.136928831107777,\n",
       " 5.134551702439931,\n",
       " 5.132183136052364,\n",
       " 5.129823101104237,\n",
       " 5.127471566865799,\n",
       " 5.12512850271798,\n",
       " 5.122793878152007,\n",
       " 5.120467662768992,\n",
       " 5.118149826279543,\n",
       " 5.115840338503368,\n",
       " 5.113539169368884,\n",
       " 5.111246288912825,\n",
       " 5.108961667279847,\n",
       " 5.10668527472215,\n",
       " 5.104417081599077,\n",
       " 5.1021570583767355,\n",
       " 5.099905175627619,\n",
       " 5.097661404030211,\n",
       " 5.095425714368609,\n",
       " 5.09319807753215,\n",
       " 5.090978464515022,\n",
       " 5.088766846415887,\n",
       " 5.086563194437517,\n",
       " 5.0843674798864,\n",
       " 5.082179674172386,\n",
       " 5.079999748808297,\n",
       " 5.0778276754095675,\n",
       " 5.075663425693872,\n",
       " 5.073506971480756,\n",
       " 5.071358284691268,\n",
       " 5.069217337347596,\n",
       " 5.067084101572705,\n",
       " 5.064958549589969,\n",
       " 5.062840653722809,\n",
       " 5.060730386394342,\n",
       " 5.05862772012701,\n",
       " 5.056532627542231,\n",
       " 5.054445081360036,\n",
       " 5.052365054398719,\n",
       " 5.050292519574479,\n",
       " 5.0482274499010735,\n",
       " 5.046169818489457,\n",
       " 5.044119598547441,\n",
       " 5.042076763379341,\n",
       " 5.040041286385627,\n",
       " 5.038013141062576,\n",
       " 5.035992301001939,\n",
       " 5.033978739890578,\n",
       " 5.031972431510141,\n",
       " 5.029973349736706,\n",
       " 5.027981468540455,\n",
       " 5.025996761985323,\n",
       " 5.024019204228667,\n",
       " 5.022048769520928,\n",
       " 5.020085432205293,\n",
       " 5.018129166717368,\n",
       " 5.016179947584834,\n",
       " 5.014237749427129,\n",
       " 5.012302546955106,\n",
       " 5.010374314970709,\n",
       " 5.008453028366643,\n",
       " 5.006538662126047,\n",
       " 5.004631191322175,\n",
       " 5.002730591118061,\n",
       " 5.000836836766199,\n",
       " 4.998949903608226,\n",
       " 4.997069767074594,\n",
       " 4.995196402684257,\n",
       " 4.9933297860443435,\n",
       " 4.991469892849845,\n",
       " 4.989616698883301,\n",
       " 4.987770180014478,\n",
       " 4.98593031220006,\n",
       " 4.984097071483333,\n",
       " 4.982270433993871,\n",
       " 4.980450375947234,\n",
       " 4.978636873644648,\n",
       " 4.976829903472699,\n",
       " 4.975029441903032,\n",
       " 4.973235465492034,\n",
       " 4.97144795088054,\n",
       " 4.969666874793521,\n",
       " 4.967892214039784,\n",
       " 4.966123945511668,\n",
       " 4.964362046184744,\n",
       " 4.962606493117519,\n",
       " 4.96085726345113,\n",
       " 4.959114334409053,\n",
       " 4.957377683296804,\n",
       " 4.955647287501639,\n",
       " 4.95392312449227,\n",
       " 4.95220517181856,\n",
       " 4.95049340711124,\n",
       " 4.94878780808161,\n",
       " 4.947088352521258,\n",
       " 4.94539501830176,\n",
       " 4.943707783374398,\n",
       " 4.942026625769877,\n",
       " 4.9403515235980295,\n",
       " 4.938682455047537,\n",
       " 4.937019398385641,\n",
       " 4.935362331957869,\n",
       " 4.933711234187743,\n",
       " 4.932066083576499,\n",
       " 4.930426858702819,\n",
       " 4.928793538222535,\n",
       " 4.927166100868363,\n",
       " 4.925544525449623,\n",
       " 4.923928790851962,\n",
       " 4.922318876037079,\n",
       " 4.920714760042453,\n",
       " 4.919116421981068,\n",
       " 4.91752384104114,\n",
       " 4.915936996485852,\n",
       " 4.914355867653076,\n",
       " 4.912780433955112,\n",
       " 4.911210674878409,\n",
       " 4.9096465699833125,\n",
       " 4.908088098903784,\n",
       " 4.9065352413471475,\n",
       " 4.904987977093815,\n",
       " 4.903446285997032,\n",
       " 4.90191014798261,\n",
       " 4.9003795430486665,\n",
       " 4.898854451265366,\n",
       " 4.897334852774656,\n",
       " 4.895820727790016,\n",
       " 4.894312056596192,\n",
       " 4.892808819548943,\n",
       " 4.89131099707479,\n",
       " 4.889818569670748,\n",
       " 4.888331517904091,\n",
       " 4.8868498224120795,\n",
       " 4.8853734639017246,\n",
       " 4.883902423149524,\n",
       " 4.88243668100122,\n",
       " 4.880976218371548,\n",
       " 4.879521016243985,\n",
       " 4.8780710556705085,\n",
       " 4.876626317771341,\n",
       " 4.875186783734714,\n",
       " 4.87375243481661,\n",
       " 4.872323252340535,\n",
       " 4.870899217697262,\n",
       " 4.869480312344594,\n",
       " 4.868066517807122,\n",
       " 4.866657815675986,\n",
       " 4.865254187608633,\n",
       " 4.863855615328574,\n",
       " 4.862462080625159,\n",
       " 4.861073565353324,\n",
       " 4.859690051433372,\n",
       " 4.858311520850715,\n",
       " 4.856937955655664,\n",
       " 4.855569337963178,\n",
       " 4.854205649952639,\n",
       " 4.852846873867616,\n",
       " 4.85149299201564,\n",
       " 4.850143986767962,\n",
       " 4.8487998405593355,\n",
       " 4.847460535887785,\n",
       " 4.84612605531437,\n",
       " 4.8447963814629675,\n",
       " 4.843471497020046,\n",
       " 4.842151384734428,\n",
       " 4.8408360274170805,\n",
       " 4.839525407940883,\n",
       " 4.838219509240405,\n",
       " 4.836918314311682,\n",
       " 4.8356218062120035,\n",
       " 4.834329968059677,\n",
       " 4.833042783033826,\n",
       " 4.8317602343741575,\n",
       " 4.830482305380745,\n",
       " 4.829208979413817,\n",
       " 4.8279402398935405,\n",
       " 4.826676070299799,\n",
       " 4.825416454171979,\n",
       " 4.824161375108761,\n",
       " 4.822910816767899,\n",
       " 4.821664762866012,\n",
       " 4.8204231971783695,\n",
       " 4.819186103538688,\n",
       " 4.817953465838902,\n",
       " 4.816725268028978,\n",
       " 4.815501494116686,\n",
       " 4.814282128167403,\n",
       " 4.813067154303901,\n",
       " 4.811856556706141,\n",
       " 4.810650319611066,\n",
       " 4.809448427312395,\n",
       " 4.808250864160425,\n",
       " 4.807057614561818,\n",
       " 4.805868662979403,\n",
       " 4.804683993931976,\n",
       " 4.80350359199409,\n",
       " 4.802327441795867,\n",
       " 4.80115552802278,\n",
       " 4.799987835415475,\n",
       " 4.798824348769555,\n",
       " 4.7976650529353915,\n",
       " 4.796509932817919,\n",
       " 4.795358973376449,\n",
       " 4.7942121596244665,\n",
       " 4.793069476629436,\n",
       " 4.791930909512612,\n",
       " 4.790796443448836,\n",
       " 4.789666063666354,\n",
       " 4.788539755446615,\n",
       " 4.787417504124084,\n",
       " 4.786299295086054,\n",
       " 4.785185113772448,\n",
       " 4.784074945675635,\n",
       " 4.7829687763402395,\n",
       " 4.781866591362954,\n",
       " 4.78076837639235,\n",
       " 4.779674117128697,\n",
       " 4.778583799323759,\n",
       " 4.777497408780635,\n",
       " 4.7764149313535516,\n",
       " 4.775336352947692,\n",
       " 4.774261659519006,\n",
       " 4.773190837074031,\n",
       " 4.772123871669708,\n",
       " 4.771060749413196,\n",
       " 4.770001456461701,\n",
       " 4.768945979022287,\n",
       " 4.767894303351698,\n",
       " 4.766846415756183,\n",
       " 4.765802302591315,\n",
       " 4.764761950261812,\n",
       " 4.763725345221363,\n",
       " 4.762692473972447,\n",
       " 4.761663323066164,\n",
       " 4.760637879102053,\n",
       " 4.7596161287279255,\n",
       " 4.75859805863968,\n",
       " 4.757583655581141,\n",
       " 4.7565729063438775,\n",
       " 4.755565797767038,\n",
       " 4.7545623167371724,\n",
       " 4.753562450188067,\n",
       " 4.75256618510057,\n",
       " 4.751573508502425,\n",
       " 4.750584407468098,\n",
       " 4.7495988691186195,\n",
       " 4.7486168806214,\n",
       " 4.747638429190077,\n",
       " 4.746663502084345,\n",
       " 4.745692086609786,\n",
       " 4.744724170117706,\n",
       " 4.743759740004973,\n",
       " 4.742798783713851,\n",
       " 4.741841288731832,\n",
       " 4.740887242591483,\n",
       " 4.739936632870274,\n",
       " 4.738989447190423,\n",
       " 4.7380456732187275,\n",
       " 4.737105298666416,\n",
       " 4.736168311288972,\n",
       " 4.735234698885989,\n",
       " 4.734304449301005,\n",
       " 4.733377550421341,\n",
       " 4.732453990177952,\n",
       " 4.731533756545262,\n",
       " 4.73061683754101,\n",
       " 4.7297032212260985,\n",
       " 4.728792895704427,\n",
       " 4.727885849122751,\n",
       " 4.726982069670518,\n",
       " 4.726081545579717,\n",
       " 4.725184265124721,\n",
       " 4.724290216622143,\n",
       " 4.7233993884306775,\n",
       " 4.722511768950947,\n",
       " 4.721627346625359,\n",
       " 4.7207461099379495,\n",
       " 4.7198680474142325,\n",
       " 4.718993147621053,\n",
       " 4.7181213991664395,\n",
       " 4.717252790699452,\n",
       " 4.716387310910036,\n",
       " 4.715524948528874,\n",
       " 4.7146656923272445,\n",
       " 4.713809531116866]"
      ]
     },
     "execution_count": 16,
     "metadata": {},
     "output_type": "execute_result"
    }
   ],
   "source": [
    "cost_data # 代价数据"
   ]
  },
  {
   "cell_type": "code",
   "execution_count": 17,
   "metadata": {},
   "outputs": [
    {
     "data": {
      "text/plain": [
       "4.713809531116866"
      ]
     },
     "execution_count": 17,
     "metadata": {},
     "output_type": "execute_result"
    }
   ],
   "source": [
    "lr_cost(final_theta, X, y)"
   ]
  },
  {
   "cell_type": "markdown",
   "metadata": {},
   "source": [
    "# visualize cost data（代价数据可视化）\n"
   ]
  },
  {
   "cell_type": "code",
   "execution_count": 37,
   "metadata": {},
   "outputs": [
    {
     "data": {
      "image/png": "[encoded data removed]",
      "text/plain": [
       "<Figure size 360x360 with 1 Axes>"
      ]
     },
     "metadata": {},
     "output_type": "display_data"
    }
   ],
   "source": [
    "c = {'epoch':list(range(eopch+1)),'cost':cost_data}\n",
    "cost_df = pd.DataFrame(c)\n",
    "ax = sns.lmplot(x='epoch',y='cost',data=cost_df,fit_reg=False)\n",
    "plt.show()\n",
    "# 由下图可看出，从第一轮开始代价数据几乎垂直下降，之后趋于平稳"
   ]
  },
  {
   "cell_type": "code",
   "execution_count": 44,
   "metadata": {},
   "outputs": [
    {
     "data": {
      "image/png": "[encoded data removed]",
      "text/plain": [
       "<Figure size 432x288 with 1 Axes>"
      ]
     },
     "metadata": {},
     "output_type": "display_data"
    }
   ],
   "source": [
    "b = final_theta[0] # intercept，Y轴上的截距\n",
    "m = final_theta[1] # slope，斜率\n",
    "\n",
    "plt.scatter(data.population, data.profit, label=\"Training data\")\n",
    "plt.plot(data.population, data.population*m + b, label=\"Prediction\")\n",
    "plt.legend(loc=2)\n",
    "plt.show()"
   ]
  },
  {
   "cell_type": "markdown",
   "metadata": {},
   "source": [
    "## 附加\n"
   ]
  },
  {
   "cell_type": "code",
   "execution_count": 19,
   "metadata": {},
   "outputs": [
    {
     "data": {
      "text/html": [
       "<div>\n",
       "<style scoped>\n",
       "    .dataframe tbody tr th:only-of-type {\n",
       "        vertical-align: middle;\n",
       "    }\n",
       "\n",
       "    .dataframe tbody tr th {\n",
       "        vertical-align: top;\n",
       "    }\n",
       "\n",
       "    .dataframe thead th {\n",
       "        text-align: right;\n",
       "    }\n",
       "</style>\n",
       "<table border=\"1\" class=\"dataframe\">\n",
       "  <thead>\n",
       "    <tr style=\"text-align: right;\">\n",
       "      <th></th>\n",
       "      <th>square</th>\n",
       "      <th>bedrooms</th>\n",
       "      <th>price</th>\n",
       "    </tr>\n",
       "  </thead>\n",
       "  <tbody>\n",
       "    <tr>\n",
       "      <th>0</th>\n",
       "      <td>2104</td>\n",
       "      <td>3</td>\n",
       "      <td>399900</td>\n",
       "    </tr>\n",
       "    <tr>\n",
       "      <th>1</th>\n",
       "      <td>1600</td>\n",
       "      <td>3</td>\n",
       "      <td>329900</td>\n",
       "    </tr>\n",
       "    <tr>\n",
       "      <th>2</th>\n",
       "      <td>2400</td>\n",
       "      <td>3</td>\n",
       "      <td>369000</td>\n",
       "    </tr>\n",
       "    <tr>\n",
       "      <th>3</th>\n",
       "      <td>1416</td>\n",
       "      <td>2</td>\n",
       "      <td>232000</td>\n",
       "    </tr>\n",
       "    <tr>\n",
       "      <th>4</th>\n",
       "      <td>3000</td>\n",
       "      <td>4</td>\n",
       "      <td>539900</td>\n",
       "    </tr>\n",
       "  </tbody>\n",
       "</table>\n",
       "</div>"
      ],
      "text/plain": [
       "   square  bedrooms   price\n",
       "0    2104         3  399900\n",
       "1    1600         3  329900\n",
       "2    2400         3  369000\n",
       "3    1416         2  232000\n",
       "4    3000         4  539900"
      ]
     },
     "execution_count": 19,
     "metadata": {},
     "output_type": "execute_result"
    }
   ],
   "source": [
    "raw_data = pd.read_csv('ex1data2.txt', names=['square', 'bedrooms', 'price'])\n",
    "raw_data.head()"
   ]
  },
  {
   "cell_type": "markdown",
   "metadata": {},
   "source": [
    "# 标准化数据(特征缩放)\n",
    "最简单的方法是减去平均值再除以标准差\n"
   ]
  },
  {
   "cell_type": "code",
   "execution_count": 22,
   "metadata": {},
   "outputs": [
    {
     "data": {
      "text/html": [
       "<div>\n",
       "<style scoped>\n",
       "    .dataframe tbody tr th:only-of-type {\n",
       "        vertical-align: middle;\n",
       "    }\n",
       "\n",
       "    .dataframe tbody tr th {\n",
       "        vertical-align: top;\n",
       "    }\n",
       "\n",
       "    .dataframe thead th {\n",
       "        text-align: right;\n",
       "    }\n",
       "</style>\n",
       "<table border=\"1\" class=\"dataframe\">\n",
       "  <thead>\n",
       "    <tr style=\"text-align: right;\">\n",
       "      <th></th>\n",
       "      <th>square</th>\n",
       "      <th>bedrooms</th>\n",
       "      <th>price</th>\n",
       "    </tr>\n",
       "  </thead>\n",
       "  <tbody>\n",
       "    <tr>\n",
       "      <th>0</th>\n",
       "      <td>0.130010</td>\n",
       "      <td>-0.223675</td>\n",
       "      <td>0.475747</td>\n",
       "    </tr>\n",
       "    <tr>\n",
       "      <th>1</th>\n",
       "      <td>-0.504190</td>\n",
       "      <td>-0.223675</td>\n",
       "      <td>-0.084074</td>\n",
       "    </tr>\n",
       "    <tr>\n",
       "      <th>2</th>\n",
       "      <td>0.502476</td>\n",
       "      <td>-0.223675</td>\n",
       "      <td>0.228626</td>\n",
       "    </tr>\n",
       "    <tr>\n",
       "      <th>3</th>\n",
       "      <td>-0.735723</td>\n",
       "      <td>-1.537767</td>\n",
       "      <td>-0.867025</td>\n",
       "    </tr>\n",
       "    <tr>\n",
       "      <th>4</th>\n",
       "      <td>1.257476</td>\n",
       "      <td>1.090417</td>\n",
       "      <td>1.595389</td>\n",
       "    </tr>\n",
       "  </tbody>\n",
       "</table>\n",
       "</div>"
      ],
      "text/plain": [
       "     square  bedrooms     price\n",
       "0  0.130010 -0.223675  0.475747\n",
       "1 -0.504190 -0.223675 -0.084074\n",
       "2  0.502476 -0.223675  0.228626\n",
       "3 -0.735723 -1.537767 -0.867025\n",
       "4  1.257476  1.090417  1.595389"
      ]
     },
     "execution_count": 22,
     "metadata": {},
     "output_type": "execute_result"
    }
   ],
   "source": [
    "def normalize_feature(df):\n",
    "    return df.apply(lambda column:(column - column.mean()) / column.std())\n",
    "\n",
    "data = normalize_feature(raw_data)\n",
    "data.head()"
   ]
  },
  {
   "cell_type": "markdown",
   "metadata": {},
   "source": [
    "#  multi-var batch gradient decent（多变量批量梯度下降）"
   ]
  },
  {
   "cell_type": "code",
   "execution_count": 23,
   "metadata": {},
   "outputs": [
    {
     "name": "stdout",
     "output_type": "stream",
     "text": [
      "(47, 3) <class 'numpy.ndarray'>\n",
      "(47,) <class 'numpy.ndarray'>\n"
     ]
    }
   ],
   "source": [
    "X = get_X(data)\n",
    "print(X.shape, type(X))\n",
    "\n",
    "y = get_y(data)\n",
    "print(y.shape, type(y))#看下数据的维度和类型"
   ]
  },
  {
   "cell_type": "code",
   "execution_count": 24,
   "metadata": {},
   "outputs": [],
   "source": [
    "alpha = 0.01#学习率\n",
    "theta = np.zeros(X.shape[1])#X.shape[1]：特征数n\n",
    "epoch = 500#轮数"
   ]
  },
  {
   "cell_type": "code",
   "execution_count": 25,
   "metadata": {},
   "outputs": [],
   "source": [
    "final_theta, cost_data = batch_gradient_decent(theta, X, y, epoch, alpha=alpha)"
   ]
  },
  {
   "cell_type": "code",
   "execution_count": 30,
   "metadata": {},
   "outputs": [
    {
     "data": {
      "image/png": "[encoded data removed]",
      "text/plain": [
       "<Figure size 360x360 with 1 Axes>"
      ]
     },
     "metadata": {},
     "output_type": "display_data"
    }
   ],
   "source": [
    "c = {'epoch':list(range(epoch+1)),'cost':cost_data}\n",
    "cost_df = pd.DataFrame(c)\n",
    "sns.lmplot(x='epoch',y='cost',data=cost_df,fit_reg=False)\n",
    "plt.show()"
   ]
  },
  {
   "cell_type": "code",
   "execution_count": 45,
   "metadata": {},
   "outputs": [
    {
     "data": {
      "text/plain": [
       "array([-1.16537985e-16,  8.30383883e-01,  8.23982853e-04])"
      ]
     },
     "execution_count": 45,
     "metadata": {},
     "output_type": "execute_result"
    }
   ],
   "source": [
    "final_theta"
   ]
  },
  {
   "cell_type": "markdown",
   "metadata": {},
   "source": [
    "# 3. learning rate（学习率）"
   ]
  },
  {
   "cell_type": "code",
   "execution_count": 47,
   "metadata": {},
   "outputs": [
    {
     "name": "stdout",
     "output_type": "stream",
     "text": [
      "[1.00000000e-01 4.64158883e-03 2.15443469e-04 1.00000000e-05]\n",
      "[3.00000000e-01 1.39247665e-02 6.46330407e-04 3.00000000e-05]\n",
      "[1.00000000e-05 3.00000000e-05 2.15443469e-04 6.46330407e-04\n",
      " 4.64158883e-03 1.39247665e-02 1.00000000e-01 3.00000000e-01]\n"
     ]
    }
   ],
   "source": [
    "base = np.logspace(-1, -5, num=4)\n",
    "print(base)\n",
    "print(base*3)\n",
    "candidate = np.sort(np.concatenate((base, base*3)))\n",
    "print(candidate)\n",
    "# 上述代码的作用就是创建一个矩阵，矩阵元素从1*10的-5次方 到 0.1\n",
    "# 意在模拟不同的 learning rate 对代价函数的影响"
   ]
  },
  {
   "cell_type": "code",
   "execution_count": 48,
   "metadata": {},
   "outputs": [
    {
     "data": {
      "image/png": "[encoded data removed]",
      "text/plain": [
       "<Figure size 1152x648 with 1 Axes>"
      ]
     },
     "metadata": {},
     "output_type": "display_data"
    }
   ],
   "source": [
    "epoch=50\n",
    "\n",
    "fig, ax = plt.subplots(figsize=(16, 9))\n",
    "\n",
    "for alpha in candidate:\n",
    "    _, cost_data = batch_gradient_decent(theta, X, y, epoch, alpha=alpha)\n",
    "    ax.plot(np.arange(epoch+1), cost_data, label=alpha)\n",
    "\n",
    "ax.set_xlabel('epoch', fontsize=18)\n",
    "ax.set_ylabel('cost', fontsize=18)\n",
    "ax.legend(bbox_to_anchor=(1.05, 1), loc=2, borderaxespad=0.)\n",
    "ax.set_title('learning rate', fontsize=18)\n",
    "plt.show()\n",
    "# 模拟不同的 alpha 的影响"
   ]
  },
  {
   "cell_type": "markdown",
   "metadata": {},
   "source": [
    "# 4. normal equation（正规方程）\n",
    "正规方程是通过求解下面的方程来找出使得代价函数最小的参数的：$\\frac{\\partial }{\\partial {{\\theta }_{j}}}J\\left( {{\\theta }_{j}} \\right)=0$ 。\n",
    " 假设我们的训练集特征矩阵为 X（包含了${{x}_{0}}=1$）并且我们的训练集结果为向量 y，则利用正规方程解出向量 $\\theta ={{\\left( {{X}^{T}}X \\right)}^{-1}}{{X}^{T}}y$ 。\n",
    "上标T代表矩阵转置，上标-1 代表矩阵的逆。设矩阵$A={{X}^{T}}X$，则：${{\\left( {{X}^{T}}X \\right)}^{-1}}={{A}^{-1}}$\n",
    "\n",
    "梯度下降与正规方程的比较：\n",
    "\n",
    "梯度下降：需要选择学习率α，需要多次迭代，当特征数量n大时也能较好适用，适用于各种类型的模型\t\n",
    "\n",
    "正规方程：不需要选择学习率α，一次计算得出，需要计算${{\\left( {{X}^{T}}X \\right)}^{-1}}$，如果特征数量n较大则运算代价大，因为矩阵逆的计算时间复杂度为O(n3)，通常来说当n小于10000 时还是可以接受的，只适用于线性模型，不适合逻辑回归模型等其他模型"
   ]
  },
  {
   "cell_type": "code",
   "execution_count": 50,
   "metadata": {},
   "outputs": [],
   "source": [
    "# 正规方程\n",
    "def normalEqn(X, y):\n",
    "    theta = np.linalg.inv(X.T @ X) @ X.T @ y\n",
    "    return theta"
   ]
  },
  {
   "cell_type": "code",
   "execution_count": 51,
   "metadata": {},
   "outputs": [
    {
     "data": {
      "text/plain": [
       "array([-1.11022302e-16,  8.84765988e-01, -5.31788197e-02])"
      ]
     },
     "execution_count": 51,
     "metadata": {},
     "output_type": "execute_result"
    }
   ],
   "source": [
    "final_theta2=normalEqn(X, y) \n",
    "final_theta2"
   ]
  }
 ],
 "metadata": {
  "interpreter": {
   "hash": "4ce0e62306dd6a5716965d4519ada776f947e6dfc145b604b11307c10277ef29"
  },
  "kernelspec": {
   "display_name": "Python 3.9.6 64-bit",
   "name": "python3"
  },
  "language_info": {
   "codemirror_mode": {
    "name": "ipython",
    "version": 3
   },
   "file_extension": ".py",
   "mimetype": "text/x-python",
   "name": "python",
   "nbconvert_exporter": "python",
   "pygments_lexer": "ipython3",
   "version": "3.9.6"
  },
  "orig_nbformat": 4
 },
 "nbformat": 4,
 "nbformat_minor": 2
}
