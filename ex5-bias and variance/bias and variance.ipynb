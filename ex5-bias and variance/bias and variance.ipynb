{
 "cells": [
  {
   "cell_type": "markdown",
   "metadata": {},
   "source": [
    "# 机器学习练习 5 - 偏差和方差(bias and variance)\n",
    "主要思想：先简单根据需求实现一个算法模型，之后画出学习曲线，根据曲线判断是 bias 问题还是 variance 问题，再做出具体的解决措施去优化算法模型\n",
    "\n",
    "\n",
    "set 分为 train set , cv set and test set"
   ]
  },
  {
   "cell_type": "code",
   "execution_count": 26,
   "metadata": {},
   "outputs": [],
   "source": [
    "import numpy as np\n",
    "import scipy.io as sio\n",
    "import scipy.optimize as opt\n",
    "import pandas as pd\n",
    "import matplotlib.pyplot as plt\n",
    "import seaborn as sns"
   ]
  },
  {
   "cell_type": "code",
   "execution_count": 27,
   "metadata": {},
   "outputs": [
    {
     "name": "stdout",
     "output_type": "stream",
     "text": [
      "[-15.93675813 -29.15297922  36.18954863  37.49218733 -48.05882945\n",
      "  -8.94145794  15.30779289 -34.70626581   1.38915437 -44.38375985\n",
      "   7.01350208  22.76274892] [ 2.13431051  1.17325668 34.35910918 36.83795516  2.80896507  2.12107248\n",
      " 14.71026831  2.61418439  3.74017167  3.73169131  7.62765885 22.7524283 ] [-16.74653578 -14.57747075  34.51575866 -47.01007574  36.97511905\n",
      " -40.68611002  -4.47201098  26.53363489 -42.7976831   25.37409938\n",
      " -31.10955398  27.31176864  -3.26386201  -1.81827649 -40.7196624\n",
      " -50.01324365 -17.41177155   3.5881937    7.08548026  46.28236902\n",
      "  14.61228909] [ 4.17020201e+00  4.06726280e+00  3.18730676e+01  1.06236562e+01\n",
      "  3.18360213e+01  4.95936972e+00  4.45159880e+00  2.22763185e+01\n",
      " -4.38738274e-05  2.05038016e+01  3.85834476e+00  1.93650529e+01\n",
      "  4.88376281e+00  1.10971588e+01  7.46170827e+00  1.47693464e+00\n",
      "  2.71916388e+00  1.09269007e+01  8.34871235e+00  5.27819280e+01\n",
      "  1.33573396e+01] [-33.31800399 -37.91216403 -51.20693795  -6.13259585  21.26118327\n",
      " -40.31952949 -14.54153167  32.55976024  13.39343255  44.20988595\n",
      "  -1.14267768 -12.76686065  34.05450539  39.22350028   1.97449674\n",
      "  29.6217551  -23.66962971  -9.01180139 -55.94057091 -35.70859752\n",
      "   9.51020533] [ 3.31688953  5.39768952  0.13042984  6.1925982  17.08848712  0.79950805\n",
      "  2.82479183 28.62123334 17.04639081 55.38437334  4.07936733  8.27039793\n",
      " 31.32355102 39.15906103  8.08727989 24.11134389  2.4773548   6.56606472\n",
      "  6.0380888   4.69273956 10.83004606]\n"
     ]
    },
    {
     "data": {
      "text/plain": [
       "((12,), (21,), (21,))"
      ]
     },
     "execution_count": 27,
     "metadata": {},
     "output_type": "execute_result"
    }
   ],
   "source": [
    "def load_data():\n",
    "    d = sio.loadmat('ex5data1.mat')\n",
    "    return map(np.ravel, [d['X'], d['y'], d['Xval'], d['yval'], d['Xtest'], d['ytest']])\n",
    "\n",
    "'''\n",
    "X , y ==> training set\n",
    "Xval, yval ==> cross validation set 交叉验证集\n",
    "Xtest, ytest ==> test set\n",
    "'''\n",
    "X, y, Xval, yval, Xtest, ytest = load_data()\n",
    "print(X, y, Xval, yval, Xtest, ytest)\n",
    "X.shape, Xval.shape, yval.shape"
   ]
  },
  {
   "cell_type": "code",
   "execution_count": 28,
   "metadata": {},
   "outputs": [
    {
     "data": {
      "image/png": "[encoded data removed]",
      "text/plain": [
       "<Figure size 504x504 with 1 Axes>"
      ]
     },
     "metadata": {
      "needs_background": "light"
     },
     "output_type": "display_data"
    }
   ],
   "source": [
    "df = pd.DataFrame({'water_level':X, 'flow':y})\n",
    "\n",
    "sns.lmplot(x='water_level', y='flow', data=df, fit_reg=False, height=7)\n",
    "plt.show()"
   ]
  },
  {
   "cell_type": "code",
   "execution_count": 29,
   "metadata": {},
   "outputs": [
    {
     "name": "stdout",
     "output_type": "stream",
     "text": [
      "[[  1.         -15.93675813]\n",
      " [  1.         -29.15297922]\n",
      " [  1.          36.18954863]\n",
      " [  1.          37.49218733]\n",
      " [  1.         -48.05882945]\n",
      " [  1.          -8.94145794]\n",
      " [  1.          15.30779289]\n",
      " [  1.         -34.70626581]\n",
      " [  1.           1.38915437]\n",
      " [  1.         -44.38375985]\n",
      " [  1.           7.01350208]\n",
      " [  1.          22.76274892]] [[  1.         -16.74653578]\n",
      " [  1.         -14.57747075]\n",
      " [  1.          34.51575866]\n",
      " [  1.         -47.01007574]\n",
      " [  1.          36.97511905]\n",
      " [  1.         -40.68611002]\n",
      " [  1.          -4.47201098]\n",
      " [  1.          26.53363489]\n",
      " [  1.         -42.7976831 ]\n",
      " [  1.          25.37409938]\n",
      " [  1.         -31.10955398]\n",
      " [  1.          27.31176864]\n",
      " [  1.          -3.26386201]\n",
      " [  1.          -1.81827649]\n",
      " [  1.         -40.7196624 ]\n",
      " [  1.         -50.01324365]\n",
      " [  1.         -17.41177155]\n",
      " [  1.           3.5881937 ]\n",
      " [  1.           7.08548026]\n",
      " [  1.          46.28236902]\n",
      " [  1.          14.61228909]] [[  1.         -33.31800399]\n",
      " [  1.         -37.91216403]\n",
      " [  1.         -51.20693795]\n",
      " [  1.          -6.13259585]\n",
      " [  1.          21.26118327]\n",
      " [  1.         -40.31952949]\n",
      " [  1.         -14.54153167]\n",
      " [  1.          32.55976024]\n",
      " [  1.          13.39343255]\n",
      " [  1.          44.20988595]\n",
      " [  1.          -1.14267768]\n",
      " [  1.         -12.76686065]\n",
      " [  1.          34.05450539]\n",
      " [  1.          39.22350028]\n",
      " [  1.           1.97449674]\n",
      " [  1.          29.6217551 ]\n",
      " [  1.         -23.66962971]\n",
      " [  1.          -9.01180139]\n",
      " [  1.         -55.94057091]\n",
      " [  1.         -35.70859752]\n",
      " [  1.           9.51020533]]\n"
     ]
    },
    {
     "data": {
      "text/plain": [
       "((12, 2), (21, 2), (21, 2))"
      ]
     },
     "execution_count": 29,
     "metadata": {},
     "output_type": "execute_result"
    }
   ],
   "source": [
    "X, Xval, Xtest = [np.insert(x.reshape(x.shape[0], 1), 0, np.ones(x.shape[0]), axis=1) for x in (X, Xval, Xtest)]\n",
    "print(X, Xval, Xtest)\n",
    "X.shape, Xval.shape, Xtest.shape"
   ]
  },
  {
   "cell_type": "markdown",
   "metadata": {},
   "source": [
    "# 代价函数\n",
    "<img style=\"float: left;\" src=\"../img/linear_cost.png\">"
   ]
  },
  {
   "cell_type": "code",
   "execution_count": 30,
   "metadata": {},
   "outputs": [
    {
     "data": {
      "text/plain": [
       "303.9515255535976"
      ]
     },
     "execution_count": 30,
     "metadata": {},
     "output_type": "execute_result"
    }
   ],
   "source": [
    "def cost(theta, X, y):\n",
    "    '''\n",
    "    X: R(m*n), m records and n features\n",
    "    y: R(m)\n",
    "    theta: R(n), linear regression parameters\n",
    "    '''\n",
    "    m = X.shape[0]\n",
    "    \n",
    "    inner = X @ theta - y # R(m)\n",
    "    \n",
    "    ''' \n",
    "    1*m @ m*1 = 1*1 in matrix multiplication\n",
    "    but you know numpy didn't do transpose in 1d array, so here is just a\n",
    "    vector inner product to itselves\n",
    "    '''\n",
    "    square_sum = inner.T @ inner\n",
    "    return square_sum / (2 * m)\n",
    "theta = np.ones(X.shape[1])\n",
    "cost(theta, X, y)"
   ]
  },
  {
   "cell_type": "markdown",
   "metadata": {},
   "source": [
    "# 梯度\n",
    "<img style=\"float: left;\" src=\"../img/linear_gradient.png\">"
   ]
  },
  {
   "cell_type": "code",
   "execution_count": 31,
   "metadata": {},
   "outputs": [
    {
     "data": {
      "text/plain": [
       "array([-15.30301567, 598.16741084])"
      ]
     },
     "execution_count": 31,
     "metadata": {},
     "output_type": "execute_result"
    }
   ],
   "source": [
    "def gradient(theta, X, y):\n",
    "    m = X.shape[0]\n",
    "    \n",
    "    inner = X.T @ (X @ theta - y) # (n,m) @ ((m,n) @ (n,1) - (m,1)) = (n,1)\n",
    "    \n",
    "    return inner / m\n",
    "gradient(theta, X, y)"
   ]
  },
  {
   "cell_type": "markdown",
   "metadata": {},
   "source": [
    "# 正则化梯度\n",
    "<img style=\"float: left;\" src=\"../img/linear_reg_gradient.png\">"
   ]
  },
  {
   "cell_type": "code",
   "execution_count": 32,
   "metadata": {},
   "outputs": [
    {
     "data": {
      "text/plain": [
       "array([-15.30301567, 598.25074417])"
      ]
     },
     "execution_count": 32,
     "metadata": {},
     "output_type": "execute_result"
    }
   ],
   "source": [
    "def regularized_gradient(theta, X, y, learning_rate=1):\n",
    "    m = X.shape[0]\n",
    "    \n",
    "    regularized_theta = theta.copy()\n",
    "    regularized_theta[0] = 0 # for j = 0\n",
    "    \n",
    "    regularized_theta = (learning_rate / m) * regularized_theta\n",
    "    \n",
    "    return gradient(theta, X, y) + regularized_theta\n",
    "\n",
    "regularized_gradient(theta, X, y)"
   ]
  },
  {
   "cell_type": "markdown",
   "metadata": {},
   "source": [
    "# 拟合数据\n",
    "> 正则化项 $\\lambda=1$"
   ]
  },
  {
   "cell_type": "markdown",
   "metadata": {},
   "source": [
    "# 正则化代价函数\n",
    "$$J\\left( \\theta  \\right)=\\frac{1}{2m}\\sum\\limits_{i=1}^{m}{{{\\left( {{h}_{\\theta }}\\left( {{x}^{(i)}} \\right)-{{y}^{(i)}} \\right)}^{2}}}+\\frac{\\lambda }{2m}\\sum\\limits_{j=1}^{n}{\\theta _{j}^{2}}$$"
   ]
  },
  {
   "cell_type": "code",
   "execution_count": 40,
   "metadata": {},
   "outputs": [],
   "source": [
    "def regularized_cost(theta, X, y, learning_rate=1):\n",
    "    m = X.shape[0]\n",
    "    \n",
    "    regularized_term = (learning_rate / (2 * m)) * np.power(theta[1:], 2).sum()\n",
    "    \n",
    "    return cost(theta, X, y) + regularized_term"
   ]
  },
  {
   "cell_type": "code",
   "execution_count": 43,
   "metadata": {},
   "outputs": [
    {
     "data": {
      "text/plain": [
       "array([13.08790362,  0.36777923])"
      ]
     },
     "execution_count": 43,
     "metadata": {},
     "output_type": "execute_result"
    }
   ],
   "source": [
    "def linear_regression(X, y, learning_rate=1):\n",
    "    \"\"\"linear regression\n",
    "    args:\n",
    "        X: feature matrix, (m, n+1)  with incercept x0=1 ==> 偏置项\n",
    "        y: target vector, (m, )\n",
    "        l: lambda constant for regularization\n",
    "\n",
    "    return: trained parameters\n",
    "    \"\"\"\n",
    "    \n",
    "    # init theta \n",
    "    theta = np.ones(X.shape[1])\n",
    "    \n",
    "    # train the modle\n",
    "    res = opt.minimize(fun=regularized_cost,\n",
    "                       x0=theta,\n",
    "                       args=(X, y, learning_rate),\n",
    "                       method='TNC',\n",
    "                       jac=regularized_gradient,\n",
    "                       options={'disp': True})\n",
    "    return res\n",
    "final_theta = linear_regression(X, y, learning_rate=0).get('x')\n",
    "final_theta"
   ]
  },
  {
   "cell_type": "code",
   "execution_count": 35,
   "metadata": {},
   "outputs": [
    {
     "data": {
      "image/png": "[encoded data removed]",
      "text/plain": [
       "<Figure size 432x288 with 1 Axes>"
      ]
     },
     "metadata": {
      "needs_background": "light"
     },
     "output_type": "display_data"
    }
   ],
   "source": [
    "b = final_theta[0] # intercept\n",
    "m = final_theta[1] # slope\n",
    "\n",
    "plt.scatter(X[:,1], y, label=\"Training data\")\n",
    "plt.plot(X[:, 1], X[:, 1]*m + b, label=\"Prediction\")\n",
    "plt.legend(loc=2)\n",
    "plt.show()"
   ]
  },
  {
   "cell_type": "markdown",
   "metadata": {},
   "source": [
    "# 学习曲线"
   ]
  },
  {
   "cell_type": "markdown",
   "metadata": {},
   "source": [
    "1.使用训练集的子集来拟合应模型\n",
    "\n",
    "2.在计算训练代价和交叉验证代价时，没有用正则化\n",
    "\n",
    "3.记住使用相同的训练集子集来计算训练代价"
   ]
  },
  {
   "cell_type": "code",
   "execution_count": 44,
   "metadata": {},
   "outputs": [],
   "source": [
    "training_cost, cv_cost = [], []\n",
    "m = X.shape[0]\n",
    "for i in range(1, m+1):\n",
    "    res = linear_regression(X[:i, :], y[:i], learning_rate=0)\n",
    "    \n",
    "    tc = regularized_cost(res.x, X[:i, :], y[:i], learning_rate=0)\n",
    "    cv = regularized_cost(res.x, Xval, yval, learning_rate=0)\n",
    "    \n",
    "    training_cost.append(tc)\n",
    "    cv_cost.append(cv)"
   ]
  },
  {
   "cell_type": "code",
   "execution_count": 45,
   "metadata": {},
   "outputs": [
    {
     "data": {
      "image/png": "[encoded data removed]",
      "text/plain": [
       "<Figure size 432x288 with 1 Axes>"
      ]
     },
     "metadata": {
      "needs_background": "light"
     },
     "output_type": "display_data"
    }
   ],
   "source": [
    "plt.plot(np.arange(1, m+1), training_cost, label='training cost')\n",
    "plt.plot(np.arange(1, m+1), cv_cost, label='cv cost')\n",
    "plt.legend(loc=1)\n",
    "plt.show()"
   ]
  },
  {
   "cell_type": "markdown",
   "metadata": {},
   "source": [
    ">这个模型拟合不太好, **欠拟合了**，因为有较高的 error ，且 cv cost 约等于 training cost\n",
    "\n",
    "\n",
    ">The problem with our linear model was that it was too simple for the data and resulted in underfitting (high bias)"
   ]
  },
  {
   "cell_type": "markdown",
   "metadata": {},
   "source": [
    "# 解决方案：增加多项式特征\n",
    "when a training set **X** of size m x 1 is passed into the function, the function should return a m × p matrix **X_poly**,where column 1 holds the original values of **X**, column 2 holds the values of **X^2**, column 3 holds the values of **X^3**, and so on."
   ]
  },
  {
   "cell_type": "code",
   "execution_count": 50,
   "metadata": {},
   "outputs": [],
   "source": [
    "def poly_features(x, power, as_ndarray=False):\n",
    "    data = {'f{}'.format(i) : np.power(x, i) for i in range(1, power+1)} # x, x^2, x^3...\n",
    "    df = pd.DataFrame(data)\n",
    "\n",
    "    return df.as_matrix() if as_ndarray else df"
   ]
  },
  {
   "cell_type": "code",
   "execution_count": 52,
   "metadata": {},
   "outputs": [
    {
     "data": {
      "text/html": [
       "<div>\n",
       "<style scoped>\n",
       "    .dataframe tbody tr th:only-of-type {\n",
       "        vertical-align: middle;\n",
       "    }\n",
       "\n",
       "    .dataframe tbody tr th {\n",
       "        vertical-align: top;\n",
       "    }\n",
       "\n",
       "    .dataframe thead th {\n",
       "        text-align: right;\n",
       "    }\n",
       "</style>\n",
       "<table border=\"1\" class=\"dataframe\">\n",
       "  <thead>\n",
       "    <tr style=\"text-align: right;\">\n",
       "      <th></th>\n",
       "      <th>f1</th>\n",
       "      <th>f2</th>\n",
       "    </tr>\n",
       "  </thead>\n",
       "  <tbody>\n",
       "    <tr>\n",
       "      <th>0</th>\n",
       "      <td>-15.936758</td>\n",
       "      <td>253.980260</td>\n",
       "    </tr>\n",
       "    <tr>\n",
       "      <th>1</th>\n",
       "      <td>-29.152979</td>\n",
       "      <td>849.896197</td>\n",
       "    </tr>\n",
       "    <tr>\n",
       "      <th>2</th>\n",
       "      <td>36.189549</td>\n",
       "      <td>1309.683430</td>\n",
       "    </tr>\n",
       "    <tr>\n",
       "      <th>3</th>\n",
       "      <td>37.492187</td>\n",
       "      <td>1405.664111</td>\n",
       "    </tr>\n",
       "    <tr>\n",
       "      <th>4</th>\n",
       "      <td>-48.058829</td>\n",
       "      <td>2309.651088</td>\n",
       "    </tr>\n",
       "    <tr>\n",
       "      <th>5</th>\n",
       "      <td>-8.941458</td>\n",
       "      <td>79.949670</td>\n",
       "    </tr>\n",
       "    <tr>\n",
       "      <th>6</th>\n",
       "      <td>15.307793</td>\n",
       "      <td>234.328523</td>\n",
       "    </tr>\n",
       "    <tr>\n",
       "      <th>7</th>\n",
       "      <td>-34.706266</td>\n",
       "      <td>1204.524887</td>\n",
       "    </tr>\n",
       "    <tr>\n",
       "      <th>8</th>\n",
       "      <td>1.389154</td>\n",
       "      <td>1.929750</td>\n",
       "    </tr>\n",
       "    <tr>\n",
       "      <th>9</th>\n",
       "      <td>-44.383760</td>\n",
       "      <td>1969.918139</td>\n",
       "    </tr>\n",
       "    <tr>\n",
       "      <th>10</th>\n",
       "      <td>7.013502</td>\n",
       "      <td>49.189211</td>\n",
       "    </tr>\n",
       "    <tr>\n",
       "      <th>11</th>\n",
       "      <td>22.762749</td>\n",
       "      <td>518.142738</td>\n",
       "    </tr>\n",
       "  </tbody>\n",
       "</table>\n",
       "</div>"
      ],
      "text/plain": [
       "           f1           f2\n",
       "0  -15.936758   253.980260\n",
       "1  -29.152979   849.896197\n",
       "2   36.189549  1309.683430\n",
       "3   37.492187  1405.664111\n",
       "4  -48.058829  2309.651088\n",
       "5   -8.941458    79.949670\n",
       "6   15.307793   234.328523\n",
       "7  -34.706266  1204.524887\n",
       "8    1.389154     1.929750\n",
       "9  -44.383760  1969.918139\n",
       "10   7.013502    49.189211\n",
       "11  22.762749   518.142738"
      ]
     },
     "execution_count": 52,
     "metadata": {},
     "output_type": "execute_result"
    }
   ],
   "source": [
    "X, y, Xval, yval, Xtest, ytest = load_data()\n",
    "poly_features(X, power=3)"
   ]
  },
  {
   "cell_type": "code",
   "execution_count": 53,
   "metadata": {},
   "outputs": [],
   "source": [
    "def feature_scaling(df): \n",
    "    '''\n",
    "    特征缩放，目的是为了让 features 的值尽可能小\n",
    "    aim to make gradient faster\n",
    "    '''\n",
    "    return df.apply(lambda column: (column - column.mean()) / column.std())"
   ]
  },
  {
   "cell_type": "code",
   "execution_count": 58,
   "metadata": {},
   "outputs": [],
   "source": [
    "def prepare_poly_data(*args, power):\n",
    "    \"\"\"\n",
    "    args: keep feeding in X, Xval, or Xtest\n",
    "        will return in the same order\n",
    "    \"\"\"\n",
    "    def prepare(x):\n",
    "        # expand feature\n",
    "        df = poly_features(x, power=power)\n",
    "        \n",
    "        # feature_scaling\n",
    "        ndarr = feature_scaling(df).values\n",
    "        \n",
    "         # add intercept term\n",
    "        return np.insert(ndarr, 0, np.ones(ndarr.shape[0]), axis=1)\n",
    "    \n",
    "    return [prepare(x) for x in args]"
   ]
  },
  {
   "cell_type": "markdown",
   "metadata": {},
   "source": [
    "# prepare for the ploynomial data for 8, or any order you want"
   ]
  },
  {
   "cell_type": "code",
   "execution_count": 59,
   "metadata": {},
   "outputs": [
    {
     "data": {
      "text/plain": [
       "array([[ 1.00000000e+00, -3.62140776e-01, -7.55086688e-01,\n",
       "         1.82225876e-01, -7.06189908e-01,  3.06617917e-01,\n",
       "        -5.90877673e-01,  3.44515797e-01],\n",
       "       [ 1.00000000e+00, -8.03204845e-01,  1.25825266e-03,\n",
       "        -2.47936991e-01, -3.27023420e-01,  9.33963187e-02,\n",
       "        -4.35817606e-01,  2.55416116e-01],\n",
       "       [ 1.00000000e+00,  1.37746700e+00,  5.84826715e-01,\n",
       "         1.24976856e+00,  2.45311974e-01,  9.78359696e-01,\n",
       "        -1.21556976e-02,  7.56568484e-01]])"
      ]
     },
     "execution_count": 59,
     "metadata": {},
     "output_type": "execute_result"
    }
   ],
   "source": [
    "X_poly, Xval_poly, Xtest_poly= prepare_poly_data(X, Xval, Xtest, power=8)\n",
    "X_poly[:3, :]"
   ]
  },
  {
   "cell_type": "markdown",
   "metadata": {},
   "source": [
    "# 画出学习曲线\n",
    "> 首先，我们没有使用正则化，所以 $\\lambda=0$"
   ]
  },
  {
   "cell_type": "code",
   "execution_count": 68,
   "metadata": {},
   "outputs": [],
   "source": [
    "def plot_learning_curve(X, y, Xval, yval, l=0):\n",
    "    training_cost, cv_cost = [], []\n",
    "    m = X.shape[0]\n",
    "\n",
    "    for i in range(1, m + 1):\n",
    "        # regularization applies here for fitting parameters\n",
    "        res = linear_regression(X[:i, :], y[:i], l)\n",
    "\n",
    "        # remember, when you compute the cost here, you are computing\n",
    "        # non-regularized cost. Regularization is used to fit parameters only\n",
    "        tc = cost(res.x, X[:i, :], y[:i])\n",
    "        cv = cost(res.x, Xval, yval)\n",
    "\n",
    "        training_cost.append(tc)\n",
    "        cv_cost.append(cv)\n",
    "\n",
    "    plt.plot(np.arange(1, m + 1), training_cost, label='training cost')\n",
    "    plt.plot(np.arange(1, m + 1), cv_cost, label='cv cost')\n",
    "    plt.legend(loc=1)\n"
   ]
  },
  {
   "cell_type": "code",
   "execution_count": 69,
   "metadata": {},
   "outputs": [
    {
     "data": {
      "image/png": "[encoded data removed]",
      "text/plain": [
       "<Figure size 432x288 with 1 Axes>"
      ]
     },
     "metadata": {
      "needs_background": "light"
     },
     "output_type": "display_data"
    }
   ],
   "source": [
    "plot_learning_curve(X_poly, y, Xval_poly, yval, l=0)\n",
    "plt.show()"
   ]
  },
  {
   "cell_type": "markdown",
   "metadata": {},
   "source": [
    "training error is low, but the cross validation error is high. There is a gap between the training and cross validation errors, indicating a high variance problem.\n",
    "\n",
    "training error 和 cv error 相差过大，是一个**过拟合**问题"
   ]
  },
  {
   "cell_type": "markdown",
   "metadata": {},
   "source": [
    "# try 正则化 $\\lambda=1$\n",
    "One way to combat the overfitting (high-variance) problem is to add regularization to the model. \n",
    "\n",
    "增加正则化"
   ]
  },
  {
   "cell_type": "code",
   "execution_count": 70,
   "metadata": {},
   "outputs": [
    {
     "data": {
      "image/png": "[encoded data removed]",
      "text/plain": [
       "<Figure size 432x288 with 1 Axes>"
      ]
     },
     "metadata": {
      "needs_background": "light"
     },
     "output_type": "display_data"
    }
   ],
   "source": [
    "plot_learning_curve(X_poly, y, Xval_poly, yval, l=1)\n",
    "plt.show()"
   ]
  },
  {
   "cell_type": "markdown",
   "metadata": {},
   "source": [
    ">training error 和 cv error 接近了一些，证明模型变好了一点，减轻了**过拟合**\n",
    "\n",
    ">This shows\n",
    "the λ = 1 regularized polynomial regression model does not have the high-\n",
    "bias or high-variance problems. In effect, it achieves a good trade-off between\n",
    "bias and variance."
   ]
  },
  {
   "cell_type": "markdown",
   "metadata": {},
   "source": [
    "# try $\\lambda=100$"
   ]
  },
  {
   "cell_type": "code",
   "execution_count": 71,
   "metadata": {},
   "outputs": [
    {
     "data": {
      "image/png": "[encoded data removed]",
      "text/plain": [
       "<Figure size 432x288 with 1 Axes>"
      ]
     },
     "metadata": {
      "needs_background": "light"
     },
     "output_type": "display_data"
    }
   ],
   "source": [
    "plot_learning_curve(X_poly, y, Xval_poly, yval, l=100)\n",
    "plt.show()"
   ]
  },
  {
   "cell_type": "markdown",
   "metadata": {},
   "source": [
    "For λ = 100, you should see a polynomial fit (Figure 8) that does not\n",
    "follow the data well. In this case, there is too much regularization and the\n",
    "model is unable to fit the training data\n",
    "\n",
    "**欠拟合**"
   ]
  },
  {
   "cell_type": "markdown",
   "metadata": {},
   "source": [
    "# Selecting λ using a cross validation set"
   ]
  },
  {
   "cell_type": "code",
   "execution_count": 72,
   "metadata": {},
   "outputs": [],
   "source": [
    "l_candidate = [0, 0.001, 0.003, 0.01, 0.03, 0.1, 0.3, 1, 3, 10]\n",
    "training_cost, cv_cost = [], []"
   ]
  },
  {
   "cell_type": "code",
   "execution_count": 74,
   "metadata": {},
   "outputs": [],
   "source": [
    "for l in l_candidate:\n",
    "    res = linear_regression(X_poly, y, l)\n",
    "    \n",
    "    tc = cost(res.x, X_poly, y)\n",
    "    cv = cost(res.x, Xval_poly, yval)\n",
    "    \n",
    "    training_cost.append(tc)\n",
    "    cv_cost.append(cv)"
   ]
  },
  {
   "cell_type": "code",
   "execution_count": 75,
   "metadata": {},
   "outputs": [
    {
     "data": {
      "image/png": "[encoded data removed]",
      "text/plain": [
       "<Figure size 432x288 with 1 Axes>"
      ]
     },
     "metadata": {
      "needs_background": "light"
     },
     "output_type": "display_data"
    }
   ],
   "source": [
    "plt.plot(l_candidate, training_cost, label='training')\n",
    "plt.plot(l_candidate, cv_cost, label='cross validation')\n",
    "plt.legend(loc=2)\n",
    "\n",
    "plt.xlabel('lambda')\n",
    "\n",
    "plt.ylabel('cost')\n",
    "plt.show()"
   ]
  },
  {
   "cell_type": "code",
   "execution_count": 79,
   "metadata": {},
   "outputs": [
    {
     "data": {
      "text/plain": [
       "1"
      ]
     },
     "execution_count": 79,
     "metadata": {},
     "output_type": "execute_result"
    }
   ],
   "source": [
    "# best cv I got from all those candidates\n",
    "best_lambda = l_candidate[np.argmin(cv_cost)] # agrmin(func) --> 使 func 取最小值时的下标"
   ]
  },
  {
   "cell_type": "markdown",
   "metadata": {},
   "source": [
    ">用 cv set 运行时，$\\lambda = 1$ 是最优选择，这个时候测试代价最小"
   ]
  },
  {
   "cell_type": "code",
   "execution_count": 81,
   "metadata": {},
   "outputs": [
    {
     "name": "stdout",
     "output_type": "stream",
     "text": [
      "test cost(l=0) = 10.395630614070194\n",
      "test cost(l=0.001) = 10.958142754029065\n",
      "test cost(l=0.003) = 11.01926725339099\n",
      "test cost(l=0.01) = 10.638342512012924\n",
      "test cost(l=0.03) = 9.831642588195937\n",
      "test cost(l=0.1) = 8.45179541387166\n",
      "test cost(l=0.3) = 7.243057897292717\n",
      "test cost(l=1) = 7.5260461148867615\n",
      "test cost(l=3) = 11.834866917505687\n",
      "test cost(l=10) = 28.089516090810797\n"
     ]
    }
   ],
   "source": [
    "# use test data to compute the cost\n",
    "for l in l_candidate:\n",
    "    theta = linear_regression(X_poly, y, l).x\n",
    "    print('test cost(l={}) = {}'.format(l, cost(theta, Xtest_poly, ytest)))"
   ]
  },
  {
   "cell_type": "markdown",
   "metadata": {},
   "source": [
    ">用 test set 运行时，$\\lambda = 0.3$ 是最优选择，这个时候测试代价最小"
   ]
  }
 ],
 "metadata": {
  "interpreter": {
   "hash": "4ce0e62306dd6a5716965d4519ada776f947e6dfc145b604b11307c10277ef29"
  },
  "kernelspec": {
   "display_name": "Python 3.9.6 64-bit",
   "language": "python",
   "name": "python3"
  },
  "language_info": {
   "codemirror_mode": {
    "name": "ipython",
    "version": 3
   },
   "file_extension": ".py",
   "mimetype": "text/x-python",
   "name": "python",
   "nbconvert_exporter": "python",
   "pygments_lexer": "ipython3",
   "version": "3.9.6"
  },
  "orig_nbformat": 4
 },
 "nbformat": 4,
 "nbformat_minor": 2
}
