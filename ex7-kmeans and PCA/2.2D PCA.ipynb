{
 "cells": [
  {
   "cell_type": "markdown",
   "metadata": {},
   "source": [
    "# 二维 PCA"
   ]
  },
  {
   "cell_type": "code",
   "execution_count": 1,
   "metadata": {},
   "outputs": [],
   "source": [
    "import matplotlib.pyplot as plt\n",
    "import seaborn as sns\n",
    "sns.set(context=\"notebook\", style=\"white\")\n",
    "\n",
    "import numpy as np\n",
    "import pandas as pd\n",
    "import scipy.io as sio"
   ]
  },
  {
   "cell_type": "markdown",
   "metadata": {},
   "source": [
    "# load data"
   ]
  },
  {
   "cell_type": "code",
   "execution_count": 7,
   "metadata": {},
   "outputs": [
    {
     "name": "stdout",
     "output_type": "stream",
     "text": [
      "(50, 2)\n"
     ]
    }
   ],
   "source": [
    "mat = sio.loadmat('./data/ex7data1.mat')\n",
    "X = mat.get('X')\n",
    "\n",
    "# visualize raw data\n",
    "print(X.shape)"
   ]
  },
  {
   "cell_type": "code",
   "execution_count": 8,
   "metadata": {},
   "outputs": [
    {
     "data": {
      "image/png": "[encoded data removed]",
      "text/plain": [
       "<Figure size 360x360 with 1 Axes>"
      ]
     },
     "metadata": {},
     "output_type": "display_data"
    }
   ],
   "source": [
    "sns.lmplot(x='X1', y='X2', \n",
    "           data=pd.DataFrame(X, columns=['X1', 'X2']),\n",
    "           fit_reg=False)\n",
    "plt.show()"
   ]
  },
  {
   "cell_type": "markdown",
   "metadata": {},
   "source": [
    "# PCA"
   ]
  },
  {
   "cell_type": "markdown",
   "metadata": {},
   "source": [
    "# 1. normalize feature (特征缩放)"
   ]
  },
  {
   "cell_type": "code",
   "execution_count": 9,
   "metadata": {},
   "outputs": [],
   "source": [
    "def normalize_feature(X):\n",
    "    X_copy = X.copy()\n",
    "    m, n = X_copy.shape\n",
    "    \n",
    "    for col in range(n):\n",
    "        X_copy[:, col] = (X_copy[:, col] - X_copy[:, col].mean()) / X_copy[:, col].std()\n",
    "    return X_copy"
   ]
  },
  {
   "cell_type": "markdown",
   "metadata": {},
   "source": [
    "# 2.covariance matrix $\\Sigma$\n",
    "<img style=\"float: left;\" src=\"../img/cov_mat.png\">"
   ]
  },
  {
   "cell_type": "code",
   "execution_count": 10,
   "metadata": {},
   "outputs": [],
   "source": [
    "def covariance_matrix(X): # calculate sigma\n",
    "    m = X.shape[0]\n",
    "    return (X.T @ X) / m"
   ]
  },
  {
   "cell_type": "markdown",
   "metadata": {},
   "source": [
    "# 3.PCA"
   ]
  },
  {
   "cell_type": "code",
   "execution_count": 22,
   "metadata": {},
   "outputs": [],
   "source": [
    "def pca(X):\n",
    "    \"\"\"\n",
    "    http://docs.scipy.org/doc/numpy/reference/generated/numpy.linalg.svd.html\n",
    "    Args:\n",
    "        X ndarray(m, n)\n",
    "    Returns:\n",
    "        U ndarray(n, n): principle components\n",
    "    \"\"\"\n",
    "    X_normal = normalize_feature(X)\n",
    "    \n",
    "    Sigma = covariance_matrix(X_normal)\n",
    "    \n",
    "    U, S, V = np.linalg.svd(Sigma)  # U: principle components (n, n)\n",
    "    return U, S, V"
   ]
  },
  {
   "cell_type": "markdown",
   "metadata": {},
   "source": [
    "# 4. project data to lower dimension"
   ]
  },
  {
   "cell_type": "code",
   "execution_count": 28,
   "metadata": {},
   "outputs": [],
   "source": [
    "def project_data(X, U, K):\n",
    "    \"\"\"\n",
    "    Args:\n",
    "        U (ndarray) (n, n)\n",
    "    Return:\n",
    "        projected X (n dim) at k dim\n",
    "    \"\"\"\n",
    "    m, n = X.shape\n",
    "\n",
    "    if K > n:\n",
    "        raise ValueError('k should be lower dimension of n')\n",
    "\n",
    "    return X @ U[:, :K] # X:(50,2) U[:,:K]:(2,k)"
   ]
  },
  {
   "cell_type": "markdown",
   "metadata": {},
   "source": [
    "# 5. recover data to original dimension\n",
    "Of course, there would be inevitable information loss if you boost data from lower to higher dimension"
   ]
  },
  {
   "cell_type": "code",
   "execution_count": 47,
   "metadata": {},
   "outputs": [],
   "source": [
    "def recover_data(Z, U):\n",
    "    m, n = Z.shape\n",
    "    if n >= U.shape[0]:\n",
    "        raise ValueError('Z dimension is >= U, you should recover from lower dimension to higher')\n",
    "    return Z @ U[:, :n].T # Z:(50,k) U[:,:n].T:(k,2) k 为降维后的维度"
   ]
  },
  {
   "cell_type": "code",
   "execution_count": 19,
   "metadata": {},
   "outputs": [
    {
     "data": {
      "image/png": "[encoded data removed]",
      "text/plain": [
       "<Figure size 360x360 with 1 Axes>"
      ]
     },
     "metadata": {},
     "output_type": "display_data"
    }
   ],
   "source": [
    "X_norm = normalize_feature(X)\n",
    "# see X after normalize_feature, compare with above\n",
    "sns.lmplot(x='X1', y='X2', \n",
    "           data=pd.DataFrame(X_norm, columns=['X1', 'X2']),\n",
    "           fit_reg=False)\n",
    "plt.show()"
   ]
  },
  {
   "cell_type": "code",
   "execution_count": 15,
   "metadata": {},
   "outputs": [
    {
     "data": {
      "text/plain": [
       "array([[1.        , 0.73553038],\n",
       "       [0.73553038, 1.        ]])"
      ]
     },
     "execution_count": 15,
     "metadata": {},
     "output_type": "execute_result"
    }
   ],
   "source": [
    "Sigma =covariance_matrix(X_norm)  # capital greek Sigma\n",
    "Sigma  # (n, n)"
   ]
  },
  {
   "cell_type": "markdown",
   "metadata": {},
   "source": [
    "http://docs.scipy.org/doc/numpy/reference/generated/numpy.linalg.svd.html"
   ]
  },
  {
   "cell_type": "code",
   "execution_count": 23,
   "metadata": {},
   "outputs": [
    {
     "data": {
      "text/plain": [
       "array([[-0.70710678, -0.70710678],\n",
       "       [-0.70710678,  0.70710678]])"
      ]
     },
     "execution_count": 23,
     "metadata": {},
     "output_type": "execute_result"
    }
   ],
   "source": [
    "U, S, V = pca(X_norm)\n",
    "U"
   ]
  },
  {
   "cell_type": "code",
   "execution_count": 24,
   "metadata": {},
   "outputs": [
    {
     "data": {
      "text/plain": [
       "array([-0.70710678, -0.70710678])"
      ]
     },
     "execution_count": 24,
     "metadata": {},
     "output_type": "execute_result"
    }
   ],
   "source": [
    "u1 = U[0]\n",
    "u1"
   ]
  },
  {
   "cell_type": "code",
   "execution_count": 29,
   "metadata": {},
   "outputs": [
    {
     "data": {
      "text/plain": [
       "array([[ 1.49631261],\n",
       "       [-0.92218067],\n",
       "       [ 1.22439232],\n",
       "       [ 1.64386173],\n",
       "       [ 1.2732206 ],\n",
       "       [-0.97681976],\n",
       "       [ 1.26881187],\n",
       "       [-2.34148278],\n",
       "       [-0.02999141],\n",
       "       [-0.78171789]])"
      ]
     },
     "execution_count": 29,
     "metadata": {},
     "output_type": "execute_result"
    }
   ],
   "source": [
    "# show top 10 projected data\n",
    "Z = project_data(X_norm, U, 1)\n",
    "Z[:10]"
   ]
  },
  {
   "cell_type": "code",
   "execution_count": 43,
   "metadata": {},
   "outputs": [
    {
     "data": {
      "image/png": "[encoded data removed]",
      "text/plain": [
       "<Figure size 864x288 with 2 Axes>"
      ]
     },
     "metadata": {},
     "output_type": "display_data"
    }
   ],
   "source": [
    "fig, (ax1, ax2) = plt.subplots(ncols=2, figsize=(12, 4))\n",
    "\n",
    "sns.regplot(x='X1', y='X2', \n",
    "           data=pd.DataFrame(X_norm, columns=['X1', 'X2']),\n",
    "           fit_reg=False,\n",
    "           ax=ax1)\n",
    "ax1.set_title('Original dimension')\n",
    "\n",
    "sns.rugplot(data=Z, ax=ax2)\n",
    "ax2.set_xlabel('Z')\n",
    "ax2.set_title('Z dimension')\n",
    "plt.show()"
   ]
  },
  {
   "cell_type": "code",
   "execution_count": 48,
   "metadata": {},
   "outputs": [
    {
     "data": {
      "image/png": "[encoded data removed]",
      "text/plain": [
       "<Figure size 864x288 with 3 Axes>"
      ]
     },
     "metadata": {},
     "output_type": "display_data"
    }
   ],
   "source": [
    "X_recover = recover_data(Z, U)\n",
    "\n",
    "fig, (ax1, ax2, ax3) = plt.subplots(ncols=3, figsize=(12, 4))\n",
    "\n",
    "sns.rugplot(data=Z, ax=ax1)\n",
    "ax1.set_title('Z dimension')\n",
    "ax1.set_xlabel('Z')\n",
    "\n",
    "sns.regplot(x='X1', y='X2', \n",
    "           data=pd.DataFrame(X_recover, columns=['X1', 'X2']),\n",
    "           fit_reg=False,\n",
    "           ax=ax2)\n",
    "ax2.set_title(\"2D projection from Z\")\n",
    "\n",
    "sns.regplot(x='X1', y='X2', \n",
    "           data=pd.DataFrame(X_norm, columns=['X1', 'X2']),\n",
    "           fit_reg=False,\n",
    "           ax=ax3)\n",
    "ax3.set_title('Original dimension')\n",
    "plt.show()"
   ]
  },
  {
   "cell_type": "markdown",
   "metadata": {},
   "source": [
    "### the projection from `(X1, X2)` to `Z` could be visualized like this\n",
    "<img style=\"float: central;\" src=\"../img/pca_projection.png\">"
   ]
  }
 ],
 "metadata": {
  "interpreter": {
   "hash": "4ce0e62306dd6a5716965d4519ada776f947e6dfc145b604b11307c10277ef29"
  },
  "kernelspec": {
   "display_name": "Python 3.9.6 64-bit",
   "language": "python",
   "name": "python3"
  },
  "language_info": {
   "codemirror_mode": {
    "name": "ipython",
    "version": 3
   },
   "file_extension": ".py",
   "mimetype": "text/x-python",
   "name": "python",
   "nbconvert_exporter": "python",
   "pygments_lexer": "ipython3",
   "version": "3.9.6"
  },
  "orig_nbformat": 4
 },
 "nbformat": 4,
 "nbformat_minor": 2
}
